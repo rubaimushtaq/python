{
 "cells": [
  {
   "cell_type": "code",
   "execution_count": 1,
   "metadata": {},
   "outputs": [
    {
     "output_type": "stream",
     "name": "stdout",
     "text": "no!\n"
    }
   ],
   "source": [
    "y=6\n",
    "if y>7:\n",
    "    print('yes!')\n",
    "else:\n",
    "    print(\"no!\")"
   ]
  },
  {
   "cell_type": "code",
   "execution_count": 8,
   "metadata": {},
   "outputs": [
    {
     "output_type": "stream",
     "name": "stdout",
     "text": "Wow, you're old !\n"
    }
   ],
   "source": [
    "age = 50\n",
    "\n",
    "if age <= 10:\n",
    "    print('What school do you go to ?')\n",
    "elif 11<=age<20:\n",
    "    print(\"You're cool !\")\n",
    "elif 20<=age<30:\n",
    "    print('What job do you have ?')\n",
    "elif 30<=age<40:\n",
    "    print(\"Are you married ?\")\n",
    "else:\n",
    "    print(\"Wow, you're old !\")\n"
   ]
  },
  {
   "cell_type": "code",
   "execution_count": null,
   "metadata": {},
   "outputs": [],
   "source": []
  }
 ],
 "metadata": {
  "language_info": {
   "codemirror_mode": {
    "name": "ipython",
    "version": 3
   },
   "file_extension": ".py",
   "mimetype": "text/x-python",
   "name": "python",
   "nbconvert_exporter": "python",
   "pygments_lexer": "ipython3",
   "version": "3.7.7-final"
  },
  "orig_nbformat": 2,
  "kernelspec": {
   "name": "python37764bitvenvvenvc3b9a5bbcf724093ab468a629a01f3a7",
   "display_name": "Python 3.7.7 64-bit ('.venv': venv)"
  }
 },
 "nbformat": 4,
 "nbformat_minor": 2
}