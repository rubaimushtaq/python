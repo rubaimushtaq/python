{
 "cells": [
  {
   "cell_type": "code",
   "execution_count": 27,
   "metadata": {},
   "outputs": [],
   "source": [
    "from random import randint\n",
    "\n",
    "def numberGame():\n",
    "    number = randint(1,100)\n",
    "    print(\"I'm thinking of a number between 1 and 100.\")\n",
    "    guess = int(input(\"What's your guess?\"))\n",
    "    while guess:\n",
    "        if number == guess:\n",
    "            print(\"Thats right, the number is\",number)\n",
    "            break\n",
    "        elif number>guess:\n",
    "            print(\"Nope, higher\")\n",
    "        else:\n",
    "            print(\"Nope, lower\")\n",
    "        guess = int(input(\"What's your guess ?\"))\n",
    "\n",
    "numberGame()"
   ]
  },
  {
   "cell_type": "code",
   "execution_count": 3,
   "metadata": {},
   "outputs": [
    {
     "output_type": "stream",
     "name": "stdout",
     "text": "Rubai\n"
    }
   ],
   "source": [
    "name = input(\"What's your name ?\")\n",
    "print(name)"
   ]
  },
  {
   "cell_type": "code",
   "execution_count": 8,
   "metadata": {},
   "outputs": [],
   "source": [
    "def greet():\n",
    "    name = input(\"What's your name ?\")\n",
    "    print(\"Hello,\",name)"
   ]
  },
  {
   "cell_type": "code",
   "execution_count": 9,
   "metadata": {},
   "outputs": [
    {
     "output_type": "stream",
     "name": "stdout",
     "text": "Hello, Rubai\n"
    }
   ],
   "source": [
    "greet()"
   ]
  },
  {
   "cell_type": "code",
   "execution_count": 12,
   "metadata": {},
   "outputs": [],
   "source": [
    "def greet1():\n",
    "    name = input(\"What's your name ?\")\n",
    "    if name == \"Peter\":\n",
    "        print(\"That's my name too!\")\n",
    "    else:\n",
    "        print(\"Hello,\",name)"
   ]
  },
  {
   "cell_type": "code",
   "execution_count": 15,
   "metadata": {},
   "outputs": [
    {
     "output_type": "stream",
     "name": "stdout",
     "text": "Hello, PETER\n"
    }
   ],
   "source": [
    "greet1()"
   ]
  },
  {
   "cell_type": "code",
   "execution_count": null,
   "metadata": {},
   "outputs": [],
   "source": []
  }
 ],
 "metadata": {
  "language_info": {
   "codemirror_mode": {
    "name": "ipython",
    "version": 3
   },
   "file_extension": ".py",
   "mimetype": "text/x-python",
   "name": "python",
   "nbconvert_exporter": "python",
   "pygments_lexer": "ipython3",
   "version": "3.7.7-final"
  },
  "orig_nbformat": 2,
  "kernelspec": {
   "name": "python37764bitvenvvenvc3b9a5bbcf724093ab468a629a01f3a7",
   "display_name": "Python 3.7.7 64-bit ('.venv': venv)"
  }
 },
 "nbformat": 4,
 "nbformat_minor": 2
}