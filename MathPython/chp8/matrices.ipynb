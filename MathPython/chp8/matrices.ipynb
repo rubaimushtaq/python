{
 "cells": [
  {
   "cell_type": "code",
   "execution_count": 1,
   "metadata": {},
   "outputs": [],
   "source": [
    "A = [[2, 3], [5, -8]]\n",
    "B = [[1, -4], [8, -6]]\n",
    "\n",
    "def addMatrices(a, b):\n",
    "    C = [[a[0][0] + b[0][0], a[0][1]+b[0][1]], [a[1][0]+b[1][0], a[1][1]+b[1][1]]]\n",
    "    return C"
   ]
  },
  {
   "cell_type": "code",
   "execution_count": 2,
   "metadata": {},
   "outputs": [
    {
     "output_type": "stream",
     "name": "stdout",
     "text": "[[3, -1], [13, -14]]\n"
    }
   ],
   "source": [
    "C = addMatrices(A, B)\n",
    "print(C)"
   ]
  },
  {
   "cell_type": "code",
   "execution_count": 9,
   "metadata": {},
   "outputs": [],
   "source": [
    "def multmatrix(a, b):\n",
    "    m = len(a)\n",
    "    n = len(b[0])\n",
    "    newmatrix = []\n",
    "    for i in range(m):\n",
    "        row = []\n",
    "        for j in range(n):\n",
    "            sum1 = 0\n",
    "            for k in range(len(b)):\n",
    "                sum1 += a[i][k]*b[k][j]\n",
    "            row.append(sum1)\n",
    "        newmatrix.append(row)\n",
    "    return newmatrix "
   ]
  },
  {
   "cell_type": "code",
   "execution_count": 10,
   "metadata": {},
   "outputs": [
    {
     "output_type": "stream",
     "name": "stdout",
     "text": "[[-19, 14]]\n"
    }
   ],
   "source": [
    "a = [[1, 2, -3, -1]]\n",
    "b = [[4, -1], \n",
    "    [-2, 3], \n",
    "    [6, -3], \n",
    "    [1, 0]]\n",
    "print(multmatrix(a, b))"
   ]
  },
  {
   "cell_type": "code",
   "execution_count": 13,
   "metadata": {},
   "outputs": [
    {
     "output_type": "execute_result",
     "data": {
      "text/plain": "[[-7, -16], [11, -2]]"
     },
     "metadata": {},
     "execution_count": 13
    }
   ],
   "source": [
    "a=[[1,-2],[2,1]]\n",
    "b=[[3,-4],[5,6]]\n",
    "multmatrix(a,b)\n"
   ]
  },
  {
   "cell_type": "code",
   "execution_count": 14,
   "metadata": {},
   "outputs": [],
   "source": [
    "def transpose(a):\n",
    "    output = []\n",
    "    m = len(a)\n",
    "    n = len(a[0])\n",
    "    for i in range(n):\n",
    "        output.append([])\n",
    "        for j in range(m):\n",
    "            output[i].append(a[j][i])\n",
    "    return output"
   ]
  },
  {
   "cell_type": "code",
   "execution_count": 15,
   "metadata": {},
   "outputs": [
    {
     "output_type": "execute_result",
     "data": {
      "text/plain": "[[1], [2], [-3], [-1]]"
     },
     "metadata": {},
     "execution_count": 15
    }
   ],
   "source": [
    "a = [[1, 2, -3, -1]]\n",
    "transpose(a)"
   ]
  },
  {
   "cell_type": "code",
   "execution_count": 17,
   "metadata": {},
   "outputs": [
    {
     "output_type": "execute_result",
     "data": {
      "text/plain": "[[4, -2, 6, 1], [-1, 3, -3, 0]]"
     },
     "metadata": {},
     "execution_count": 17
    }
   ],
   "source": [
    "b = [[4, -1], [-2, 3], [6, -3], [1, 0]]\n",
    "transpose(b)"
   ]
  },
  {
   "cell_type": "code",
   "execution_count": null,
   "metadata": {},
   "outputs": [],
   "source": []
  }
 ],
 "metadata": {
  "language_info": {
   "codemirror_mode": {
    "name": "ipython",
    "version": 3
   },
   "file_extension": ".py",
   "mimetype": "text/x-python",
   "name": "python",
   "nbconvert_exporter": "python",
   "pygments_lexer": "ipython3",
   "version": "3.7.7-final"
  },
  "orig_nbformat": 2,
  "kernelspec": {
   "name": "python37764bitvenvvenvbff2db70c5cc4fdb98bb51754ba7b551",
   "display_name": "Python 3.7.7 64-bit ('.venv': venv)"
  }
 },
 "nbformat": 4,
 "nbformat_minor": 2
}