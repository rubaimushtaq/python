{
 "cells": [
  {
   "cell_type": "code",
   "execution_count": 11,
   "metadata": {},
   "outputs": [],
   "source": [
    "def f(x):\n",
    "    return 6*x**3 + 31*x**2 + 3*x - 10\n",
    "\n"
   ]
  },
  {
   "cell_type": "code",
   "execution_count": 12,
   "metadata": {},
   "outputs": [
    {
     "output_type": "execute_result",
     "data": {
      "text/plain": "-0.5"
     },
     "metadata": {},
     "execution_count": 12
    }
   ],
   "source": [
    "def average(a, b):\n",
    "    return (a+b)/2.0\n",
    "\n",
    "average(-1, 0)"
   ]
  },
  {
   "cell_type": "code",
   "execution_count": 17,
   "metadata": {},
   "outputs": [
    {
     "output_type": "stream",
     "name": "stdout",
     "text": "-1 0\n-1 -0.5\n-0.75 -0.5\n-0.75 -0.625\n-0.6875 -0.625\n-0.6875 -0.65625\n-0.671875 -0.65625\n-0.671875 -0.6640625\n-0.66796875 -0.6640625\n-0.66796875 -0.666015625\n-0.6669921875 -0.666015625\n-0.6669921875 -0.66650390625\n-0.666748046875 -0.66650390625\n-0.666748046875 -0.6666259765625\n-0.66668701171875 -0.6666259765625\n-0.66668701171875 -0.666656494140625\n-0.6666717529296875 -0.666656494140625\n-0.6666717529296875 -0.6666641235351562\n-0.6666679382324219 -0.6666641235351562\n-0.6666679382324219 -0.6666660308837891\n"
    }
   ],
   "source": [
    "def guess():\n",
    "    lower = -1     \n",
    "    upper = 0   \n",
    "    for i in range(20):\n",
    "        print(lower, upper)\n",
    "        midpt = average(lower, upper)\n",
    "        if f(midpt) == 0:\n",
    "            return midpt\n",
    "        elif f(midpt) < 0:\n",
    "            upper = midpt\n",
    "        else:\n",
    "            lower = midpt\n",
    "    return midpt\n",
    "x = guess()\n",
    "\n"
   ]
  },
  {
   "cell_type": "code",
   "execution_count": 18,
   "metadata": {},
   "outputs": [
    {
     "output_type": "execute_result",
     "data": {
      "text/plain": "(-0.6666669845581055, 9.642708896251406e-06)"
     },
     "metadata": {},
     "execution_count": 18
    }
   ],
   "source": [
    "(x, f(x))"
   ]
  },
  {
   "cell_type": "code",
   "execution_count": 21,
   "metadata": {},
   "outputs": [
    {
     "output_type": "execute_result",
     "data": {
      "text/plain": "9.642708896251406e-06"
     },
     "metadata": {},
     "execution_count": 21
    }
   ],
   "source": [
    "f(-0.6666669845581055)"
   ]
  },
  {
   "cell_type": "code",
   "execution_count": null,
   "metadata": {},
   "outputs": [],
   "source": []
  }
 ],
 "metadata": {
  "language_info": {
   "codemirror_mode": {
    "name": "ipython",
    "version": 3
   },
   "file_extension": ".py",
   "mimetype": "text/x-python",
   "name": "python",
   "nbconvert_exporter": "python",
   "pygments_lexer": "ipython3",
   "version": "3.7.7-final"
  },
  "orig_nbformat": 2,
  "kernelspec": {
   "name": "python37764bitvenvvenvc3b9a5bbcf724093ab468a629a01f3a7",
   "display_name": "Python 3.7.7 64-bit ('.venv': venv)"
  }
 },
 "nbformat": 4,
 "nbformat_minor": 2
}