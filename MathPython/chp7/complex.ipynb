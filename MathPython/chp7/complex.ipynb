{
 "cells": [
  {
   "cell_type": "code",
   "execution_count": 25,
   "metadata": {},
   "outputs": [],
   "source": [
    "def cAdd(a, b):\n",
    "    return(a[0]+b[0], a[1]+b[1])"
   ]
  },
  {
   "cell_type": "code",
   "execution_count": 26,
   "metadata": {},
   "outputs": [
    {
     "output_type": "execute_result",
     "data": {
      "text/plain": "(4, 6)"
     },
     "metadata": {},
     "execution_count": 26
    }
   ],
   "source": [
    "u = [1, 2]\n",
    "v = [3, 4]\n",
    "cAdd(u, v)"
   ]
  },
  {
   "cell_type": "code",
   "execution_count": 27,
   "metadata": {},
   "outputs": [],
   "source": [
    "def cMult(u, v):\n",
    "    return [u[0]*v[0]-u[1]*v[1], u[1]*v[0]+u[0]*v[1]]"
   ]
  },
  {
   "cell_type": "code",
   "execution_count": 28,
   "metadata": {},
   "outputs": [
    {
     "output_type": "execute_result",
     "data": {
      "text/plain": "[-4, 3]"
     },
     "metadata": {},
     "execution_count": 28
    }
   ],
   "source": [
    "u = [1, 2]\n",
    "v = [3, 4]\n",
    "cMult([3, 4], [0, 1])"
   ]
  },
  {
   "cell_type": "code",
   "execution_count": 29,
   "metadata": {},
   "outputs": [],
   "source": [
    "from math import sqrt\n",
    "\n",
    "def magnitude(z):\n",
    "    return sqrt(z[0]**2+z[1]**2)"
   ]
  },
  {
   "cell_type": "code",
   "execution_count": 30,
   "metadata": {},
   "outputs": [
    {
     "output_type": "execute_result",
     "data": {
      "text/plain": "2.23606797749979"
     },
     "metadata": {},
     "execution_count": 30
    }
   ],
   "source": [
    "magnitude([2, 1])"
   ]
  },
  {
   "cell_type": "code",
   "execution_count": 39,
   "metadata": {},
   "outputs": [
    {
     "output_type": "execute_result",
     "data": {
      "text/plain": "1.1524430571616109"
     },
     "metadata": {},
     "execution_count": 39
    }
   ],
   "source": [
    "z = [0.25, 0.75]\n",
    "z2 = cMult(z, z)\n",
    "z3 = cAdd(z2, z)\n",
    "magnitude(z3)"
   ]
  },
  {
   "cell_type": "code",
   "execution_count": 36,
   "metadata": {},
   "outputs": [
    {
     "output_type": "execute_result",
     "data": {
      "text/plain": "(-0.4099999999999999, 1.275)"
     },
     "metadata": {},
     "execution_count": 36
    }
   ],
   "source": [
    "cAdd(z2, z)"
   ]
  },
  {
   "cell_type": "code",
   "execution_count": 37,
   "metadata": {},
   "outputs": [
    {
     "output_type": "execute_result",
     "data": {
      "text/plain": "2.969243380054926"
     },
     "metadata": {},
     "execution_count": 37
    }
   ],
   "source": [
    "magnitude([-1.9375, 2.25])"
   ]
  },
  {
   "cell_type": "code",
   "execution_count": 40,
   "metadata": {},
   "outputs": [
    {
     "output_type": "execute_result",
     "data": {
      "text/plain": "0.971392565148097"
     },
     "metadata": {},
     "execution_count": 40
    }
   ],
   "source": [
    "z1 = z \n",
    "z2 = cMult(z3, z3)\n",
    "z3 = cAdd(z2, z1)\n",
    "magnitude(z3)"
   ]
  },
  {
   "cell_type": "code",
   "execution_count": null,
   "metadata": {},
   "outputs": [],
   "source": []
  },
  {
   "cell_type": "code",
   "execution_count": null,
   "metadata": {},
   "outputs": [],
   "source": []
  }
 ],
 "metadata": {
  "language_info": {
   "codemirror_mode": {
    "name": "ipython",
    "version": 3
   },
   "file_extension": ".py",
   "mimetype": "text/x-python",
   "name": "python",
   "nbconvert_exporter": "python",
   "pygments_lexer": "ipython3",
   "version": "3.7.7-final"
  },
  "orig_nbformat": 2,
  "kernelspec": {
   "name": "python37764bitvenvvenv2290fee19a784eddb03f31c94417b554",
   "display_name": "Python 3.7.7 64-bit ('.venv': venv)"
  }
 },
 "nbformat": 4,
 "nbformat_minor": 2
}